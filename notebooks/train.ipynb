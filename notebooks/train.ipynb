{
 "cells": [
  {
   "cell_type": "code",
   "execution_count": 1,
   "metadata": {},
   "outputs": [
    {
     "name": "stdout",
     "output_type": "stream",
     "text": [
      "cuda\n"
     ]
    }
   ],
   "source": [
    "%load_ext autoreload\n",
    "%autoreload 2\n",
    "\n",
    "from unsupervised_mt.dataset import Dataset\n",
    "from unsupervised_mt.train import Trainer \n",
    "from unsupervised_mt.models import Embedding, Encoder, DecoderHat, Attention, Discriminator\n",
    "from unsupervised_mt.batch_iterator import BatchIterator\n",
    "from unsupervised_mt.utils import log_probs2indices, noise\n",
    "\n",
    "from functools import partial\n",
    "import numpy as np\n",
    "import torch\n",
    "import torch.nn as nn\n",
    "from tqdm import tqdm_notebook as tqdm\n",
    "\n",
    "\n",
    "device = torch.device(\"cuda\" if torch.cuda.is_available() else \"cpu\")\n",
    "print(device)"
   ]
  },
  {
   "cell_type": "code",
   "execution_count": 2,
   "metadata": {},
   "outputs": [],
   "source": [
    "ds = Dataset(languages=('src', 'tgt'), \n",
    "             corp_paths=('../data/train.lc.norm.tok.en', '../data/train.lc.norm.tok.fr'), \n",
    "             emb_paths=('../data/wiki.multi.en.vec', '../data/wiki.multi.fr.vec'), \n",
    "             pairs_paths=('../data/src2tgt_20.npy', '../data/tgt2src_20.npy'), \n",
    "             max_length=20)"
   ]
  },
  {
   "cell_type": "code",
   "execution_count": 3,
   "metadata": {},
   "outputs": [],
   "source": [
    "batch_iter = BatchIterator(ds)"
   ]
  },
  {
   "cell_type": "code",
   "execution_count": 4,
   "metadata": {},
   "outputs": [],
   "source": [
    "hidden_size = 100\n",
    "num_layers = 3\n",
    "\n",
    "src_embedding = Embedding(ds.emb_matrix['src']).to(device)\n",
    "tgt_embedding = Embedding(ds.emb_matrix['tgt']).to(device)\n",
    "\n",
    "encoder_rnn = nn.GRU(input_size=src_embedding.embedding_dim, hidden_size=hidden_size, num_layers=num_layers, bidirectional=True)\n",
    "decoder_rnn = nn.GRU(input_size=src_embedding.embedding_dim, hidden_size=hidden_size, num_layers=num_layers, bidirectional=True)\n",
    "attention = Attention(src_embedding.embedding_dim, hidden_size, max_length=ds.max_length, bidirectional=True)\n",
    "src_hat = DecoderHat(2*hidden_size, ds.vocabs['src'].size)\n",
    "tgt_hat = DecoderHat(2*hidden_size, ds.vocabs['tgt'].size)\n",
    "discriminator = Discriminator(2*hidden_size)\n",
    "\n",
    "trainer = Trainer(partial(ds.translate_batch_word_by_word, l1='src', l2='tgt'), \n",
    "                  partial(ds.translate_batch_word_by_word, l1='tgt', l2='src'), \n",
    "                  src_embedding, tgt_embedding, encoder_rnn, decoder_rnn, attention, src_hat, tgt_hat, \n",
    "                  discriminator, \n",
    "                  ds.get_sos_index('src'), ds.get_sos_index('tgt'), \n",
    "                  ds.get_eos_index('src'), ds.get_eos_index('tgt'), \n",
    "                  ds.get_pad_index('src'), ds.get_pad_index('tgt'), \n",
    "                  device, lr_core=1e-3, lr_disc=1e-3)"
   ]
  },
  {
   "cell_type": "code",
   "execution_count": 5,
   "metadata": {},
   "outputs": [],
   "source": [
    "src_embedding.load_state_dict(torch.load('./src_embedding'))\n",
    "tgt_embedding.load_state_dict(torch.load('./tgt_embedding'))\n",
    "encoder_rnn.load_state_dict(torch.load('./encoder_rnn'))\n",
    "decoder_rnn.load_state_dict(torch.load('./decoder_rnn'))\n",
    "attention.load_state_dict(torch.load('./attention'))\n",
    "src_hat.load_state_dict(torch.load('./src_hat'))\n",
    "tgt_hat.load_state_dict(torch.load('./tgt_hat'))\n",
    "discriminator.load_state_dict(torch.load('./discriminator'))"
   ]
  },
  {
   "cell_type": "code",
   "execution_count": null,
   "metadata": {},
   "outputs": [
    {
     "data": {
      "application/vnd.jupyter.widget-view+json": {
       "model_id": "17439099c11a441088ea9c4f38c5cd0c",
       "version_major": 2,
       "version_minor": 0
      },
      "text/plain": [
       "HBox(children=(IntProgress(value=0, max=50000), HTML(value='')))"
      ]
     },
     "metadata": {},
     "output_type": "display_data"
    }
   ],
   "source": [
    "batch_size = 50\n",
    "num_steps = 50000\n",
    "\n",
    "for i in tqdm(range(num_steps)):\n",
    "    trainer.train_step(batch_iter.load_batch(batch_size), weights=(1, 1, 0.1))"
   ]
  },
  {
   "cell_type": "code",
   "execution_count": 20,
   "metadata": {},
   "outputs": [
    {
     "name": "stdout",
     "output_type": "stream",
     "text": [
      "['two', 'competitors', 'one', 'of', 'which', 'is', 'in', 'the', 'us', 'air', 'force', 'wrestling', '.', '<eos>']\n",
      "['deux', 'competiteurs', 'deux', 'de', 'qui', 'est', 'dans', 'la', 'unis', 'air', 'force', 'wrestling', '.', '<eos>']\n",
      "['deux', 'hommes', 'sont', 'des', 'la', '<unk>', 'de', 'l', '<unk>', 'de', 'de', 'de', '.', '<eos>']\n"
     ]
    }
   ],
   "source": [
    "batch = batch_iter.load_batch(1, test=True)\n",
    "ds.print_batch(batch['src'], 'src')\n",
    "ds.print_batch(trainer.frozen_src2tgt(batch['src']), 'tgt')\n",
    "ds.print_batch(\n",
    "    log_probs2indices(trainer.src2tgt.evaluate(batch['src'].to(device), ds.get_sos_index('tgt'), ds.get_eos_index('tgt'), 20)), 'tgt'\n",
    ")"
   ]
  },
  {
   "cell_type": "code",
   "execution_count": 10,
   "metadata": {},
   "outputs": [],
   "source": [
    "torch.save(src_embedding.state_dict(), 'src_embedding')\n",
    "torch.save(tgt_embedding.state_dict(), 'tgt_embedding')\n",
    "torch.save(encoder_rnn.state_dict(), 'encoder_rnn')\n",
    "torch.save(decoder_rnn.state_dict(), 'decoder_rnn')\n",
    "torch.save(attention.state_dict(), 'attention')\n",
    "torch.save(src_hat.state_dict(), 'src_hat')\n",
    "torch.save(tgt_hat.state_dict(), 'tgt_hat')\n",
    "torch.save(discriminator.state_dict(), 'discriminator')"
   ]
  },
  {
   "cell_type": "code",
   "execution_count": null,
   "metadata": {},
   "outputs": [],
   "source": []
  }
 ],
 "metadata": {
  "kernelspec": {
   "display_name": "Python 3",
   "language": "python",
   "name": "python3"
  },
  "language_info": {
   "codemirror_mode": {
    "name": "ipython",
    "version": 3
   },
   "file_extension": ".py",
   "mimetype": "text/x-python",
   "name": "python",
   "nbconvert_exporter": "python",
   "pygments_lexer": "ipython3",
   "version": "3.6.5"
  },
  "toc": {
   "nav_menu": {},
   "number_sections": false,
   "sideBar": true,
   "skip_h1_title": false,
   "title_cell": "Table of Contents",
   "title_sidebar": "Contents",
   "toc_cell": false,
   "toc_position": {},
   "toc_section_display": true,
   "toc_window_display": false
  }
 },
 "nbformat": 4,
 "nbformat_minor": 2
}
