{
 "cells": [
  {
   "cell_type": "code",
   "execution_count": 1,
   "metadata": {},
   "outputs": [
    {
     "name": "stdout",
     "output_type": "stream",
     "text": [
      "cuda\n"
     ]
    }
   ],
   "source": [
    "%load_ext autoreload\n",
    "%autoreload 2\n",
    "\n",
    "from unsupervised_mt.dataset import Dataset\n",
    "from unsupervised_mt.train import Trainer \n",
    "from unsupervised_mt.models import Embedding, Encoder, DecoderHat, Attention, Discriminator\n",
    "from unsupervised_mt.batch_loader import BatchLoader\n",
    "from unsupervised_mt.utils import log_probs2indices, noise\n",
    "\n",
    "import io\n",
    "from functools import partial\n",
    "import numpy as np\n",
    "import torch\n",
    "import torch.nn as nn\n",
    "from tqdm import tqdm_notebook as tqdm\n",
    "import matplotlib.pyplot as plt\n",
    "%matplotlib inline\n",
    "\n",
    "\n",
    "device = torch.device(\"cuda\" if torch.cuda.is_available() else \"cpu\")\n",
    "print(device)"
   ]
  },
  {
   "cell_type": "code",
   "execution_count": 2,
   "metadata": {},
   "outputs": [],
   "source": [
    "ds = Dataset(corp_paths=('../data/train.lc.norm.tok.en', '../data/train.lc.norm.tok.fr'), \n",
    "             emb_paths=('../data/wiki.multi.en.vec', '../data/wiki.multi.fr.vec'), \n",
    "             pairs_paths=('../data/train_test_src2tgt.npy', '../data/train_test_tgt2src.npy'), \n",
    "             max_length=20, test_size=0.1)"
   ]
  },
  {
   "cell_type": "code",
   "execution_count": 3,
   "metadata": {},
   "outputs": [],
   "source": [
    "batch_iter = BatchLoader(ds)"
   ]
  },
  {
   "cell_type": "code",
   "execution_count": 4,
   "metadata": {},
   "outputs": [],
   "source": [
    "hidden_size = 100\n",
    "num_layers = 3\n",
    "\n",
    "src_embedding = Embedding(ds.emb_matrix['src']).to(device)\n",
    "tgt_embedding = Embedding(ds.emb_matrix['tgt']).to(device)\n",
    "\n",
    "encoder_rnn = nn.GRU(input_size=src_embedding.embedding_dim, hidden_size=hidden_size, num_layers=num_layers, bidirectional=True)\n",
    "decoder_rnn = nn.GRU(input_size=src_embedding.embedding_dim, hidden_size=hidden_size, num_layers=num_layers, bidirectional=True)\n",
    "attention = Attention(src_embedding.embedding_dim, hidden_size, max_length=ds.max_length, bidirectional=True)\n",
    "src_hat = DecoderHat(2*hidden_size, ds.vocabs['src'].size)\n",
    "tgt_hat = DecoderHat(2*hidden_size, ds.vocabs['tgt'].size)\n",
    "discriminator = Discriminator(2*hidden_size)\n",
    "\n",
    "trainer = Trainer(partial(ds.translate_batch_word_by_word, l1='src', l2='tgt'), \n",
    "                  partial(ds.translate_batch_word_by_word, l1='tgt', l2='src'), \n",
    "                  src_embedding, tgt_embedding, encoder_rnn, decoder_rnn, attention, src_hat, tgt_hat, \n",
    "                  discriminator, \n",
    "                  ds.get_sos_index('src'), ds.get_sos_index('tgt'), \n",
    "                  ds.get_eos_index('src'), ds.get_eos_index('tgt'), \n",
    "                  ds.get_pad_index('src'), ds.get_pad_index('tgt'), \n",
    "                  device, lr_core=1e-3, lr_disc=1e-3)"
   ]
  },
  {
   "cell_type": "code",
   "execution_count": 5,
   "metadata": {},
   "outputs": [],
   "source": [
    "trainer.load('../saved_models/final_result1/')"
   ]
  },
  {
   "cell_type": "code",
   "execution_count": null,
   "metadata": {},
   "outputs": [
    {
     "data": {
      "application/vnd.jupyter.widget-view+json": {
       "model_id": "73c35dcee38e41379756f5cc3c2193c1",
       "version_major": 2,
       "version_minor": 0
      },
      "text/plain": [
       "HBox(children=(IntProgress(value=0, max=100000), HTML(value='')))"
      ]
     },
     "metadata": {},
     "output_type": "display_data"
    }
   ],
   "source": [
    "batch_size = 30\n",
    "num_steps = 100000\n",
    "\n",
    "core_losses = []\n",
    "disc_losses = []\n",
    "for i in tqdm(range(num_steps)):\n",
    "    core_loss, disc_loss = trainer.train_step(batch_iter.load_batch(batch_size), weights=(1, 1, 0.3))\n",
    "    core_losses.append(core_loss)\n",
    "    disc_losses.append(disc_loss)"
   ]
  },
  {
   "cell_type": "code",
   "execution_count": 6,
   "metadata": {},
   "outputs": [
    {
     "data": {
      "text/plain": [
       "[<matplotlib.lines.Line2D at 0x7f2b2429af98>]"
      ]
     },
     "execution_count": 6,
     "metadata": {},
     "output_type": "execute_result"
    },
    {
     "data": {
      "image/png": "[encoded data removed]",
      "text/plain": [
       "<Figure size 432x288 with 1 Axes>"
      ]
     },
     "metadata": {},
     "output_type": "display_data"
    }
   ],
   "source": [
    "plt.plot(core_losses)"
   ]
  },
  {
   "cell_type": "code",
   "execution_count": 48,
   "metadata": {},
   "outputs": [
    {
     "data": {
      "text/plain": [
       "[<matplotlib.lines.Line2D at 0x7f2b535bc7f0>]"
      ]
     },
     "execution_count": 48,
     "metadata": {},
     "output_type": "execute_result"
    },
    {
     "data": {
      "image/png": "[encoded data removed]",
      "text/plain": [
       "<Figure size 432x288 with 1 Axes>"
      ]
     },
     "metadata": {},
     "output_type": "display_data"
    }
   ],
   "source": [
    "plt.plot(disc_losses)"
   ]
  },
  {
   "cell_type": "code",
   "execution_count": 6,
   "metadata": {},
   "outputs": [
    {
     "name": "stdout",
     "output_type": "stream",
     "text": [
      "['a woman and a horse are jumping over a miniature building . <eos>']\n",
      "['une femme et un cheval sautent par dessus un batiment miniature . <eos>']\n",
      "['une femme et une cheval sont sautant pendant une miniature immeuble . <eos>']\n",
      "['une femme et un chien est assis sur un un un un . <eos>']\n"
     ]
    }
   ],
   "source": [
    "test_id = np.random.choice(range(len(ds.test)))\n",
    "batch = batch_iter.load_batch(1, test=True, ids=[test_id])\n",
    "\n",
    "print(ds.visualize_batch(batch['src'], 'src'))\n",
    "print(ds.visualize_batch(batch['tgt'], 'tgt'))\n",
    "print(ds.visualize_batch(trainer.frozen_src2tgt(batch['src']), 'tgt'))\n",
    "print(ds.visualize_batch(\n",
    "    log_probs2indices(trainer.src2tgt.evaluate(\n",
    "        batch['src'].to(device), ds.get_sos_index('tgt'), ds.get_eos_index('tgt'), 20)), \n",
    "    'tgt'\n",
    "))"
   ]
  },
  {
   "cell_type": "code",
   "execution_count": 7,
   "metadata": {},
   "outputs": [],
   "source": [
    "def clean_batch(batch):\n",
    "    return [' '.join(filter(lambda w: w != '<eos>' and w != '<pad>', s.split())) for s in batch]"
   ]
  },
  {
   "cell_type": "code",
   "execution_count": 8,
   "metadata": {},
   "outputs": [
    {
     "data": {
      "text/plain": [
       "2453"
      ]
     },
     "execution_count": 8,
     "metadata": {},
     "output_type": "execute_result"
    }
   ],
   "source": [
    "len(ds.test)"
   ]
  },
  {
   "cell_type": "code",
   "execution_count": 11,
   "metadata": {},
   "outputs": [
    {
     "ename": "RuntimeError",
     "evalue": "cuda runtime error (2) : out of memory at /opt/conda/conda-bld/pytorch_1524584710464/work/aten/src/THC/generic/THCStorage.cu:58",
     "output_type": "error",
     "traceback": [
      "\u001b[0;31m---------------------------------------------------------------------------\u001b[0m",
      "\u001b[0;31mRuntimeError\u001b[0m                              Traceback (most recent call last)",
      "\u001b[0;32m<ipython-input-11-0cc92fbd1f4d>\u001b[0m in \u001b[0;36m<module>\u001b[0;34m()\u001b[0m\n\u001b[1;32m      3\u001b[0m         \u001b[0msource\u001b[0m\u001b[0;34m,\u001b[0m \u001b[0mtarget\u001b[0m \u001b[0;34m=\u001b[0m \u001b[0mbatch_iter\u001b[0m\u001b[0;34m.\u001b[0m\u001b[0mload_batch\u001b[0m\u001b[0;34m(\u001b[0m\u001b[0;36m0\u001b[0m\u001b[0;34m,\u001b[0m \u001b[0mtest\u001b[0m\u001b[0;34m=\u001b[0m\u001b[0;32mTrue\u001b[0m\u001b[0;34m,\u001b[0m \u001b[0mids\u001b[0m\u001b[0;34m=\u001b[0m\u001b[0mrange\u001b[0m\u001b[0;34m(\u001b[0m\u001b[0midx\u001b[0m\u001b[0;34m,\u001b[0m \u001b[0midx\u001b[0m \u001b[0;34m+\u001b[0m \u001b[0;36m50\u001b[0m\u001b[0;34m)\u001b[0m\u001b[0;34m)\u001b[0m\u001b[0;34m.\u001b[0m\u001b[0mvalues\u001b[0m\u001b[0;34m(\u001b[0m\u001b[0;34m)\u001b[0m\u001b[0;34m\u001b[0m\u001b[0m\n\u001b[1;32m      4\u001b[0m         pred = log_probs2indices(trainer.src2tgt.evaluate(\n\u001b[0;32m----> 5\u001b[0;31m             \u001b[0msource\u001b[0m\u001b[0;34m.\u001b[0m\u001b[0mto\u001b[0m\u001b[0;34m(\u001b[0m\u001b[0mdevice\u001b[0m\u001b[0;34m)\u001b[0m\u001b[0;34m,\u001b[0m \u001b[0mds\u001b[0m\u001b[0;34m.\u001b[0m\u001b[0mget_sos_index\u001b[0m\u001b[0;34m(\u001b[0m\u001b[0;34m'tgt'\u001b[0m\u001b[0;34m)\u001b[0m\u001b[0;34m,\u001b[0m \u001b[0mds\u001b[0m\u001b[0;34m.\u001b[0m\u001b[0mget_eos_index\u001b[0m\u001b[0;34m(\u001b[0m\u001b[0;34m'tgt'\u001b[0m\u001b[0;34m)\u001b[0m\u001b[0;34m\u001b[0m\u001b[0m\n\u001b[0m\u001b[1;32m      6\u001b[0m         ))\n\u001b[1;32m      7\u001b[0m         \u001b[0mprint\u001b[0m\u001b[0;34m(\u001b[0m\u001b[0;34m*\u001b[0m\u001b[0mclean_batch\u001b[0m\u001b[0;34m(\u001b[0m\u001b[0mds\u001b[0m\u001b[0;34m.\u001b[0m\u001b[0mvisualize_batch\u001b[0m\u001b[0;34m(\u001b[0m\u001b[0mpred\u001b[0m\u001b[0;34m,\u001b[0m \u001b[0;34m'tgt'\u001b[0m\u001b[0;34m)\u001b[0m\u001b[0;34m)\u001b[0m\u001b[0;34m,\u001b[0m \u001b[0msep\u001b[0m\u001b[0;34m=\u001b[0m\u001b[0;34m'\\n'\u001b[0m\u001b[0;34m,\u001b[0m \u001b[0mfile\u001b[0m\u001b[0;34m=\u001b[0m\u001b[0mf_pred\u001b[0m\u001b[0;34m)\u001b[0m\u001b[0;34m\u001b[0m\u001b[0m\n",
      "\u001b[0;32m~/miniconda3/lib/python3.6/site-packages/unsupervised_mt/models.py\u001b[0m in \u001b[0;36mevaluate\u001b[0;34m(self, inputs, sos_index, eos_index, n_iters)\u001b[0m\n\u001b[1;32m    179\u001b[0m     \u001b[0;32mdef\u001b[0m \u001b[0mevaluate\u001b[0m\u001b[0;34m(\u001b[0m\u001b[0mself\u001b[0m\u001b[0;34m,\u001b[0m \u001b[0minputs\u001b[0m\u001b[0;34m,\u001b[0m \u001b[0msos_index\u001b[0m\u001b[0;34m,\u001b[0m \u001b[0meos_index\u001b[0m\u001b[0;34m,\u001b[0m \u001b[0mn_iters\u001b[0m\u001b[0;34m=\u001b[0m\u001b[0;32mNone\u001b[0m\u001b[0;34m)\u001b[0m\u001b[0;34m:\u001b[0m\u001b[0;34m\u001b[0m\u001b[0m\n\u001b[1;32m    180\u001b[0m         \u001b[0mencoder_outputs\u001b[0m\u001b[0;34m,\u001b[0m \u001b[0mhidden\u001b[0m \u001b[0;34m=\u001b[0m \u001b[0mself\u001b[0m\u001b[0;34m.\u001b[0m\u001b[0mencoder\u001b[0m\u001b[0;34m(\u001b[0m\u001b[0minputs\u001b[0m\u001b[0;34m)\u001b[0m\u001b[0;34m\u001b[0m\u001b[0m\n\u001b[0;32m--> 181\u001b[0;31m         \u001b[0mdecoder_outputs\u001b[0m \u001b[0;34m=\u001b[0m \u001b[0mself\u001b[0m\u001b[0;34m.\u001b[0m\u001b[0mdecoder\u001b[0m\u001b[0;34m.\u001b[0m\u001b[0mevaluate\u001b[0m\u001b[0;34m(\u001b[0m\u001b[0mhidden\u001b[0m\u001b[0;34m,\u001b[0m \u001b[0mencoder_outputs\u001b[0m\u001b[0;34m,\u001b[0m \u001b[0msos_index\u001b[0m\u001b[0;34m,\u001b[0m \u001b[0meos_index\u001b[0m\u001b[0;34m,\u001b[0m \u001b[0mn_iters\u001b[0m\u001b[0;34m)\u001b[0m\u001b[0;34m\u001b[0m\u001b[0m\n\u001b[0m\u001b[1;32m    182\u001b[0m         \u001b[0;32mreturn\u001b[0m \u001b[0mdecoder_outputs\u001b[0m\u001b[0;34m\u001b[0m\u001b[0m\n\u001b[1;32m    183\u001b[0m \u001b[0;34m\u001b[0m\u001b[0m\n",
      "\u001b[0;32m~/miniconda3/lib/python3.6/site-packages/unsupervised_mt/models.py\u001b[0m in \u001b[0;36mevaluate\u001b[0;34m(self, hidden, encoder_outputs, sos_index, eos_index, n_iters)\u001b[0m\n\u001b[1;32m    150\u001b[0m         \u001b[0mended\u001b[0m \u001b[0;34m=\u001b[0m \u001b[0mnp\u001b[0m\u001b[0;34m.\u001b[0m\u001b[0mzeros\u001b[0m\u001b[0;34m(\u001b[0m\u001b[0mhidden\u001b[0m\u001b[0;34m.\u001b[0m\u001b[0msize\u001b[0m\u001b[0;34m(\u001b[0m\u001b[0;36m1\u001b[0m\u001b[0;34m)\u001b[0m\u001b[0;34m)\u001b[0m\u001b[0;34m\u001b[0m\u001b[0m\n\u001b[1;32m    151\u001b[0m         \u001b[0;32mwhile\u001b[0m \u001b[0;34m~\u001b[0m\u001b[0mnp\u001b[0m\u001b[0;34m.\u001b[0m\u001b[0mall\u001b[0m\u001b[0;34m(\u001b[0m\u001b[0mended\u001b[0m\u001b[0;34m)\u001b[0m \u001b[0;32mand\u001b[0m \u001b[0mn_iters\u001b[0m \u001b[0;34m!=\u001b[0m \u001b[0;36m0\u001b[0m\u001b[0;34m:\u001b[0m\u001b[0;34m\u001b[0m\u001b[0m\n\u001b[0;32m--> 152\u001b[0;31m             \u001b[0moutput\u001b[0m\u001b[0;34m,\u001b[0m \u001b[0mhidden\u001b[0m \u001b[0;34m=\u001b[0m \u001b[0mself\u001b[0m\u001b[0;34m.\u001b[0m\u001b[0mstep\u001b[0m\u001b[0;34m(\u001b[0m\u001b[0minput\u001b[0m\u001b[0;34m,\u001b[0m \u001b[0mhidden\u001b[0m\u001b[0;34m,\u001b[0m \u001b[0mencoder_outputs\u001b[0m\u001b[0;34m)\u001b[0m\u001b[0;34m\u001b[0m\u001b[0m\n\u001b[0m\u001b[1;32m    153\u001b[0m             \u001b[0moutputs\u001b[0m\u001b[0;34m.\u001b[0m\u001b[0mappend\u001b[0m\u001b[0;34m(\u001b[0m\u001b[0moutput\u001b[0m\u001b[0;34m.\u001b[0m\u001b[0munsqueeze\u001b[0m\u001b[0;34m(\u001b[0m\u001b[0;36m0\u001b[0m\u001b[0;34m)\u001b[0m\u001b[0;34m)\u001b[0m\u001b[0;34m\u001b[0m\u001b[0m\n\u001b[1;32m    154\u001b[0m             \u001b[0minput\u001b[0m \u001b[0;34m=\u001b[0m \u001b[0mtorch\u001b[0m\u001b[0;34m.\u001b[0m\u001b[0mtopk\u001b[0m\u001b[0;34m(\u001b[0m\u001b[0moutput\u001b[0m\u001b[0;34m,\u001b[0m \u001b[0mk\u001b[0m\u001b[0;34m=\u001b[0m\u001b[0;36m1\u001b[0m\u001b[0;34m)\u001b[0m\u001b[0;34m[\u001b[0m\u001b[0;36m1\u001b[0m\u001b[0;34m]\u001b[0m\u001b[0;34m.\u001b[0m\u001b[0msqueeze\u001b[0m\u001b[0;34m(\u001b[0m\u001b[0;34m-\u001b[0m\u001b[0;36m1\u001b[0m\u001b[0;34m)\u001b[0m\u001b[0;34m\u001b[0m\u001b[0m\n",
      "\u001b[0;32m~/miniconda3/lib/python3.6/site-packages/unsupervised_mt/models.py\u001b[0m in \u001b[0;36mstep\u001b[0;34m(self, input, hidden, encoder_outputs)\u001b[0m\n\u001b[1;32m    114\u001b[0m         \u001b[0membedded\u001b[0m \u001b[0;34m=\u001b[0m \u001b[0mself\u001b[0m\u001b[0;34m.\u001b[0m\u001b[0membedding\u001b[0m\u001b[0;34m(\u001b[0m\u001b[0minput\u001b[0m\u001b[0;34m)\u001b[0m\u001b[0;34m\u001b[0m\u001b[0m\n\u001b[1;32m    115\u001b[0m         \u001b[0mrnn_input\u001b[0m \u001b[0;34m=\u001b[0m \u001b[0mself\u001b[0m\u001b[0;34m.\u001b[0m\u001b[0mattention\u001b[0m\u001b[0;34m(\u001b[0m\u001b[0membedded\u001b[0m\u001b[0;34m,\u001b[0m \u001b[0mhidden\u001b[0m\u001b[0;34m,\u001b[0m \u001b[0mencoder_outputs\u001b[0m\u001b[0;34m)\u001b[0m \u001b[0;32mif\u001b[0m \u001b[0mself\u001b[0m\u001b[0;34m.\u001b[0m\u001b[0mattention\u001b[0m \u001b[0;32melse\u001b[0m \u001b[0membedded\u001b[0m\u001b[0;34m\u001b[0m\u001b[0m\n\u001b[0;32m--> 116\u001b[0;31m         \u001b[0moutput\u001b[0m\u001b[0;34m,\u001b[0m \u001b[0mhidden\u001b[0m \u001b[0;34m=\u001b[0m \u001b[0mself\u001b[0m\u001b[0;34m.\u001b[0m\u001b[0mrnn\u001b[0m\u001b[0;34m(\u001b[0m\u001b[0mrnn_input\u001b[0m\u001b[0;34m.\u001b[0m\u001b[0munsqueeze\u001b[0m\u001b[0;34m(\u001b[0m\u001b[0;36m0\u001b[0m\u001b[0;34m)\u001b[0m\u001b[0;34m,\u001b[0m \u001b[0mhidden\u001b[0m\u001b[0;34m)\u001b[0m\u001b[0;34m\u001b[0m\u001b[0m\n\u001b[0m\u001b[1;32m    117\u001b[0m         \u001b[0moutput\u001b[0m \u001b[0;34m=\u001b[0m \u001b[0mself\u001b[0m\u001b[0;34m.\u001b[0m\u001b[0mhat\u001b[0m\u001b[0;34m(\u001b[0m\u001b[0moutput\u001b[0m\u001b[0;34m.\u001b[0m\u001b[0msqueeze\u001b[0m\u001b[0;34m(\u001b[0m\u001b[0;36m0\u001b[0m\u001b[0;34m)\u001b[0m\u001b[0;34m)\u001b[0m\u001b[0;34m\u001b[0m\u001b[0m\n\u001b[1;32m    118\u001b[0m         \u001b[0;32mreturn\u001b[0m \u001b[0moutput\u001b[0m\u001b[0;34m,\u001b[0m \u001b[0mhidden\u001b[0m\u001b[0;34m\u001b[0m\u001b[0m\n",
      "\u001b[0;32m~/miniconda3/lib/python3.6/site-packages/torch/nn/modules/module.py\u001b[0m in \u001b[0;36m__call__\u001b[0;34m(self, *input, **kwargs)\u001b[0m\n\u001b[1;32m    489\u001b[0m             \u001b[0mresult\u001b[0m \u001b[0;34m=\u001b[0m \u001b[0mself\u001b[0m\u001b[0;34m.\u001b[0m\u001b[0m_slow_forward\u001b[0m\u001b[0;34m(\u001b[0m\u001b[0;34m*\u001b[0m\u001b[0minput\u001b[0m\u001b[0;34m,\u001b[0m \u001b[0;34m**\u001b[0m\u001b[0mkwargs\u001b[0m\u001b[0;34m)\u001b[0m\u001b[0;34m\u001b[0m\u001b[0m\n\u001b[1;32m    490\u001b[0m         \u001b[0;32melse\u001b[0m\u001b[0;34m:\u001b[0m\u001b[0;34m\u001b[0m\u001b[0m\n\u001b[0;32m--> 491\u001b[0;31m             \u001b[0mresult\u001b[0m \u001b[0;34m=\u001b[0m \u001b[0mself\u001b[0m\u001b[0;34m.\u001b[0m\u001b[0mforward\u001b[0m\u001b[0;34m(\u001b[0m\u001b[0;34m*\u001b[0m\u001b[0minput\u001b[0m\u001b[0;34m,\u001b[0m \u001b[0;34m**\u001b[0m\u001b[0mkwargs\u001b[0m\u001b[0;34m)\u001b[0m\u001b[0;34m\u001b[0m\u001b[0m\n\u001b[0m\u001b[1;32m    492\u001b[0m         \u001b[0;32mfor\u001b[0m \u001b[0mhook\u001b[0m \u001b[0;32min\u001b[0m \u001b[0mself\u001b[0m\u001b[0;34m.\u001b[0m\u001b[0m_forward_hooks\u001b[0m\u001b[0;34m.\u001b[0m\u001b[0mvalues\u001b[0m\u001b[0;34m(\u001b[0m\u001b[0;34m)\u001b[0m\u001b[0;34m:\u001b[0m\u001b[0;34m\u001b[0m\u001b[0m\n\u001b[1;32m    493\u001b[0m             \u001b[0mhook_result\u001b[0m \u001b[0;34m=\u001b[0m \u001b[0mhook\u001b[0m\u001b[0;34m(\u001b[0m\u001b[0mself\u001b[0m\u001b[0;34m,\u001b[0m \u001b[0minput\u001b[0m\u001b[0;34m,\u001b[0m \u001b[0mresult\u001b[0m\u001b[0;34m)\u001b[0m\u001b[0;34m\u001b[0m\u001b[0m\n",
      "\u001b[0;32m~/miniconda3/lib/python3.6/site-packages/torch/nn/modules/rnn.py\u001b[0m in \u001b[0;36mforward\u001b[0;34m(self, input, hx)\u001b[0m\n\u001b[1;32m    190\u001b[0m             \u001b[0mflat_weight\u001b[0m\u001b[0;34m=\u001b[0m\u001b[0mflat_weight\u001b[0m\u001b[0;34m\u001b[0m\u001b[0m\n\u001b[1;32m    191\u001b[0m         )\n\u001b[0;32m--> 192\u001b[0;31m         \u001b[0moutput\u001b[0m\u001b[0;34m,\u001b[0m \u001b[0mhidden\u001b[0m \u001b[0;34m=\u001b[0m \u001b[0mfunc\u001b[0m\u001b[0;34m(\u001b[0m\u001b[0minput\u001b[0m\u001b[0;34m,\u001b[0m \u001b[0mself\u001b[0m\u001b[0;34m.\u001b[0m\u001b[0mall_weights\u001b[0m\u001b[0;34m,\u001b[0m \u001b[0mhx\u001b[0m\u001b[0;34m,\u001b[0m \u001b[0mbatch_sizes\u001b[0m\u001b[0;34m)\u001b[0m\u001b[0;34m\u001b[0m\u001b[0m\n\u001b[0m\u001b[1;32m    193\u001b[0m         \u001b[0;32mif\u001b[0m \u001b[0mis_packed\u001b[0m\u001b[0;34m:\u001b[0m\u001b[0;34m\u001b[0m\u001b[0m\n\u001b[1;32m    194\u001b[0m             \u001b[0moutput\u001b[0m \u001b[0;34m=\u001b[0m \u001b[0mPackedSequence\u001b[0m\u001b[0;34m(\u001b[0m\u001b[0moutput\u001b[0m\u001b[0;34m,\u001b[0m \u001b[0mbatch_sizes\u001b[0m\u001b[0;34m)\u001b[0m\u001b[0;34m\u001b[0m\u001b[0m\n",
      "\u001b[0;32m~/miniconda3/lib/python3.6/site-packages/torch/nn/_functions/rnn.py\u001b[0m in \u001b[0;36mforward\u001b[0;34m(input, *fargs, **fkwargs)\u001b[0m\n\u001b[1;32m    321\u001b[0m             \u001b[0mfunc\u001b[0m \u001b[0;34m=\u001b[0m \u001b[0mdecorator\u001b[0m\u001b[0;34m(\u001b[0m\u001b[0mfunc\u001b[0m\u001b[0;34m)\u001b[0m\u001b[0;34m\u001b[0m\u001b[0m\n\u001b[1;32m    322\u001b[0m \u001b[0;34m\u001b[0m\u001b[0m\n\u001b[0;32m--> 323\u001b[0;31m         \u001b[0;32mreturn\u001b[0m \u001b[0mfunc\u001b[0m\u001b[0;34m(\u001b[0m\u001b[0minput\u001b[0m\u001b[0;34m,\u001b[0m \u001b[0;34m*\u001b[0m\u001b[0mfargs\u001b[0m\u001b[0;34m,\u001b[0m \u001b[0;34m**\u001b[0m\u001b[0mfkwargs\u001b[0m\u001b[0;34m)\u001b[0m\u001b[0;34m\u001b[0m\u001b[0m\n\u001b[0m\u001b[1;32m    324\u001b[0m \u001b[0;34m\u001b[0m\u001b[0m\n\u001b[1;32m    325\u001b[0m     \u001b[0;32mreturn\u001b[0m \u001b[0mforward\u001b[0m\u001b[0;34m\u001b[0m\u001b[0m\n",
      "\u001b[0;32m~/miniconda3/lib/python3.6/site-packages/torch/nn/_functions/rnn.py\u001b[0m in \u001b[0;36mforward\u001b[0;34m(input, weight, hx, batch_sizes)\u001b[0m\n\u001b[1;32m    285\u001b[0m             \u001b[0mbatch_first\u001b[0m\u001b[0;34m,\u001b[0m \u001b[0mdropout\u001b[0m\u001b[0;34m,\u001b[0m \u001b[0mtrain\u001b[0m\u001b[0;34m,\u001b[0m \u001b[0mbool\u001b[0m\u001b[0;34m(\u001b[0m\u001b[0mbidirectional\u001b[0m\u001b[0;34m)\u001b[0m\u001b[0;34m,\u001b[0m\u001b[0;34m\u001b[0m\u001b[0m\n\u001b[1;32m    286\u001b[0m             \u001b[0mlist\u001b[0m\u001b[0;34m(\u001b[0m\u001b[0mbatch_sizes\u001b[0m\u001b[0;34m.\u001b[0m\u001b[0mdata\u001b[0m\u001b[0;34m)\u001b[0m \u001b[0;32mif\u001b[0m \u001b[0mvariable_length\u001b[0m \u001b[0;32melse\u001b[0m \u001b[0;34m(\u001b[0m\u001b[0;34m)\u001b[0m\u001b[0;34m,\u001b[0m\u001b[0;34m\u001b[0m\u001b[0m\n\u001b[0;32m--> 287\u001b[0;31m             dropout_ts)\n\u001b[0m\u001b[1;32m    288\u001b[0m \u001b[0;34m\u001b[0m\u001b[0m\n\u001b[1;32m    289\u001b[0m         \u001b[0;32mif\u001b[0m \u001b[0mcx\u001b[0m \u001b[0;32mis\u001b[0m \u001b[0;32mnot\u001b[0m \u001b[0;32mNone\u001b[0m\u001b[0;34m:\u001b[0m\u001b[0;34m\u001b[0m\u001b[0m\n",
      "\u001b[0;31mRuntimeError\u001b[0m: cuda runtime error (2) : out of memory at /opt/conda/conda-bld/pytorch_1524584710464/work/aten/src/THC/generic/THCStorage.cu:58"
     ]
    }
   ],
   "source": [
    "with io.open('pred', 'w') as f_pred, io.open('target', 'w') as f_target:\n",
    "    for idx in range(0, len(ds.test), 50)[:5]:\n",
    "        source, target = batch_iter.load_batch(0, test=True, ids=range(idx, idx + 50)).values()\n",
    "        pred = log_probs2indices(trainer.src2tgt.evaluate(\n",
    "            source.to(device), ds.get_sos_index('tgt'), ds.get_eos_index('tgt')\n",
    "        ))\n",
    "        print(*clean_batch(ds.visualize_batch(pred, 'tgt')), sep='\\n', file=f_pred)\n",
    "        print(*clean_batch(ds.visualize_batch(target, 'tgt')), sep='\\n', file=f_target)"
   ]
  },
  {
   "cell_type": "code",
   "execution_count": 12,
   "metadata": {},
   "outputs": [
    {
     "data": {
      "text/plain": [
       "tensor([[    4,     4,   117,   594,     5,     4,     4,     4,   109,\n",
       "             4,     4,     4,   222,    50,     4,     4,     4,   109,\n",
       "            23,     4,    14,    14,     4,     4,    51,     4,    23,\n",
       "             4,     4,     4,    14,     4,     4,     4,     4,     4,\n",
       "             4,     4,     4,    14,     4,    50,    50,   222,   222,\n",
       "           832,    51,     4,     4,     4],\n",
       "        [   60,   170,   947,   795,  3454,    11,    11,   131,  1858,\n",
       "            34,    11,    54,  2049,    60,    11,  2272,    11,    59,\n",
       "            11,    11,    51,   258,   479,   520,    27,   131,    20,\n",
       "            34,  1313,    11,    51,    11,  1661,    60,    11,   557,\n",
       "             5,    11,    11,   557,  1348,   182,    51,   795,  2975,\n",
       "            54,    27,   526,    19,    11],\n",
       "        [  166,    25,  2607,  4078,    23,    42,  6081,   415,   168,\n",
       "             2,    27,    92,  8395,  2029,   366,   233,    27,    27,\n",
       "            76,    31,    52,  7710,   258,    20,   222,   116,    27,\n",
       "            27,   263,    27,    38,    76,  2097,    54,   351,  2025,\n",
       "            76,    38,     5,   652,    76,    42,    42,    11,     6,\n",
       "            38,    23,    51,    20,    27],\n",
       "        [   76,  1283,     2,  1173,   527,    43,   136,    23,  1686,\n",
       "           241,     4,    31,    38,   143,  3072,    27,     4,     4,\n",
       "           129,     4,    14,    27,    52,    52,  2259,     4,   942,\n",
       "             4,     4,     4,   960,   116,   233,  1451,    31,     2,\n",
       "           214,   140,    52,   183,  3212,    56,   199,    92,   166,\n",
       "           520,   870,   143,   500,     4],\n",
       "        [  664,   218,    31,   183,    27,   919,   828,   750,   214,\n",
       "             4,   258,   222,     4,     7,   759,    23,    28,   281,\n",
       "             4,  2227,   314,    23,    82,  1636,    38,   132,    76,\n",
       "           934,  3663,   260,  4744,     4,  2307,   551,     4,    31,\n",
       "             4,    76,    39,   187,    31,   199,    55,    23,  3481,\n",
       "           154,   214,    59,    76,   258],\n",
       "        [  100,    27,   472,  1119,   216,    52,    27,   999,  1700,\n",
       "           199,    45,  6043,  9897,   765,    10,  3092,    45,  1803,\n",
       "           576,   117,   143,   217,    15,   260,  2822,    27,    41,\n",
       "            76,    31,   942,   183,    28,   234,     4,  2896,    23,\n",
       "          1045,  1013,    11,   188,   211,    52,    90,   414,    27,\n",
       "            27,     4,    25,   880,  1440],\n",
       "        [  371,   216,  3645,   301,    25,     4,   216,    10,   353,\n",
       "           666,  1415,    25,     7,    27,   467,    27,    76,   456,\n",
       "           120,   267,    31,    13,    16,   332,    52,    23,    23,\n",
       "           214,  5047,    45,   127,    16,    31,   199,   441,   590,\n",
       "            27,   100,   183,     4,  2442,    43,   720,    76,    23,\n",
       "            43,  1038,     4,    76,  2660],\n",
       "        [   31,    25,    13,    13,     4,   258,    25,    39,   354,\n",
       "            31,    10,  2846,     4,    23,    23,   216,  4774,    13,\n",
       "            27,   234,   716,     1,    13,   107,     4,   560,    19,\n",
       "           222,    48,    76,    31,   442,    23,    96,   488,    13,\n",
       "            81,   861,   167,  3049,    13,   677,  4071,   761,   320,\n",
       "          7936,    13,  1319,   761,     4],\n",
       "        [    4,     4,     1,     1,   185,   358,     4,  1926,   493,\n",
       "            23,  1790,    13,   680,  3541,     2,    25,     4,     1,\n",
       "            23,     4,   562,     3,     1,  2501,  4310,    13,    20,\n",
       "          1438,     4,  1084,     4,    13,   815,    13,   100,     1,\n",
       "          1175,    52,   245,   100,     1,   183,     4,  3196,     7,\n",
       "           756,     1,     1,  3233,   494],\n",
       "        [  123,    53,     3,     3,    13,    45,    36,   318,    28,\n",
       "            67,     2,     1,   681,   561,     2,     4,    53,     3,\n",
       "           874,    58,    13,     3,     3,  2060,  1254,     1,  8019,\n",
       "            31,     2,  1615,   815,     1,    13,     1,   222,     3,\n",
       "            52,     6,     4,   394,     3,   143,   170,   107,     4,\n",
       "            43,     3,     3,    99,    38],\n",
       "        [   27,   274,     3,     3,     1,    92,    37,    13,    56,\n",
       "            13,    13,     3,   249,    31,     2,   350,   509,     3,\n",
       "            38,     1,     1,     3,     3,     1,    13,     3,   222,\n",
       "           382,     4,    48,     1,     3,     1,     3,  1948,     3,\n",
       "          1269,     7,   758,  5902,     3,    52,    25,     4,    32,\n",
       "           873,     3,     3,   107,   818],\n",
       "        [   23,    27,     3,     3,     3,     4,   401,     1,    52,\n",
       "             1,     1,     3,    13,  7660,    13,  1127,    31,     3,\n",
       "             4,     3,     3,     3,     3,     3,     1,     3,  3290,\n",
       "            25,  3631,     4,     3,     3,     3,     3,  1319,     3,\n",
       "             7,     4,   281,   107,     3,   127,   109,   166,    13,\n",
       "          1267,     3,     3,   222,   258],\n",
       "        [   32,   222,     3,     3,     3,    93,    13,     3,   258,\n",
       "             3,     3,     3,     1,    13,     1,    38,     4,     3,\n",
       "           250,     3,     3,     3,     3,     3,     3,     3,   100,\n",
       "             4,   760,    43,     3,     3,     3,     3,    13,     3,\n",
       "             4,  1435,    13,     4,     3,   559,    13,    13,     1,\n",
       "           222,     3,     3,   507,  5783],\n",
       "        [   13,  3995,     3,     3,     3,     1,     1,     3,    13,\n",
       "             3,     3,     3,     3,     1,     3,  1126,   177,     3,\n",
       "            13,     3,     3,     3,     3,     3,     3,     3,     4,\n",
       "          2183,    76,  2512,     3,     3,     3,     3,     1,     3,\n",
       "           449,  1254,     1,  4091,     3,    14,     1,     1,     3,\n",
       "           479,     3,     3,    13,    10],\n",
       "        [    1,   494,     3,     3,     3,     3,     3,     3,     1,\n",
       "             3,     3,     3,     3,     3,     3,    13,   411,     3,\n",
       "             1,     3,     3,     3,     3,     3,     3,     3,   487,\n",
       "            38,  1119,   911,     3,     3,     3,     3,     3,     3,\n",
       "            38,    13,     3,    13,     3,   314,     3,     3,     3,\n",
       "           843,     3,     3,     1,     6],\n",
       "        [    3,    13,     3,     3,     3,     3,     3,     3,     3,\n",
       "             3,     3,     3,     3,     3,     3,     1,    13,     3,\n",
       "             3,     3,     3,     3,     3,     3,     3,     3,    13,\n",
       "          1340,  1297,    13,     3,     3,     3,     3,     3,     3,\n",
       "            23,     1,     3,     1,     3,    13,     3,     3,     3,\n",
       "          1105,     3,     3,     3,     7],\n",
       "        [    3,     1,     3,     3,     3,     3,     3,     3,     3,\n",
       "             3,     3,     3,     3,     3,     3,     3,     1,     3,\n",
       "             3,     3,     3,     3,     3,     3,     3,     3,     1,\n",
       "            27,    13,     1,     3,     3,     3,     3,     3,     3,\n",
       "           108,     3,     3,     3,     3,     1,     3,     3,     3,\n",
       "            13,     3,     3,     3,   742],\n",
       "        [    3,     3,     3,     3,     3,     3,     3,     3,     3,\n",
       "             3,     3,     3,     3,     3,     3,     3,     3,     3,\n",
       "             3,     3,     3,     3,     3,     3,     3,     3,     3,\n",
       "           742,     1,     3,     3,     3,     3,     3,     3,     3,\n",
       "            13,     3,     3,     3,     3,     3,     3,     3,     3,\n",
       "             1,     3,     3,     3,    13],\n",
       "        [    3,     3,     3,     3,     3,     3,     3,     3,     3,\n",
       "             3,     3,     3,     3,     3,     3,     3,     3,     3,\n",
       "             3,     3,     3,     3,     3,     3,     3,     3,     3,\n",
       "            13,     3,     3,     3,     3,     3,     3,     3,     3,\n",
       "             1,     3,     3,     3,     3,     3,     3,     3,     3,\n",
       "             3,     3,     3,     3,     1],\n",
       "        [    3,     3,     3,     3,     3,     3,     3,     3,     3,\n",
       "             3,     3,     3,     3,     3,     3,     3,     3,     3,\n",
       "             3,     3,     3,     3,     3,     3,     3,     3,     3,\n",
       "             1,     3,     3,     3,     3,     3,     3,     3,     3,\n",
       "             3,     3,     3,     3,     3,     3,     3,     3,     3,\n",
       "             3,     3,     3,     3,     3]])"
      ]
     },
     "execution_count": 12,
     "metadata": {},
     "output_type": "execute_result"
    }
   ],
   "source": [
    "source"
   ]
  },
  {
   "cell_type": "code",
   "execution_count": 31,
   "metadata": {},
   "outputs": [
    {
     "name": "stdout",
     "output_type": "stream",
     "text": [
      "BLEU = 10.58, 44.7/16.5/6.8/2.9 (BP=0.963, ratio=0.964, hyp_len=12621, ref_len=13095)\r\n",
      "It is not advisable to publish scores from multi-bleu.perl.  The scores depend on your tokenizer, which is unlikely to be reproducible from your paper or consistent across research groups.  Instead you should detokenize then use mteval-v14.pl, which has a standard tokenization.  Scores from multi-bleu.perl can still be used for internal purposes when you have a consistent tokenizer.\r\n"
     ]
    }
   ],
   "source": [
    "! perl ../multi-bleu.perl target < pred"
   ]
  },
  {
   "cell_type": "code",
   "execution_count": null,
   "metadata": {},
   "outputs": [],
   "source": []
  }
 ],
 "metadata": {
  "kernelspec": {
   "display_name": "Python 3",
   "language": "python",
   "name": "python3"
  },
  "language_info": {
   "codemirror_mode": {
    "name": "ipython",
    "version": 3
   },
   "file_extension": ".py",
   "mimetype": "text/x-python",
   "name": "python",
   "nbconvert_exporter": "python",
   "pygments_lexer": "ipython3",
   "version": "3.6.5"
  },
  "toc": {
   "nav_menu": {},
   "number_sections": false,
   "sideBar": true,
   "skip_h1_title": false,
   "title_cell": "Table of Contents",
   "title_sidebar": "Contents",
   "toc_cell": false,
   "toc_position": {},
   "toc_section_display": true,
   "toc_window_display": false
  }
 },
 "nbformat": 4,
 "nbformat_minor": 2
}
